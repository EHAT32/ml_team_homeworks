{
 "cells": [
  {
   "cell_type": "markdown",
   "id": "b152f29b",
   "metadata": {},
   "source": [
    "# Поиск лучшего классификатора"
   ]
  },
  {
   "cell_type": "markdown",
   "id": "808b1c46",
   "metadata": {},
   "source": [
    "В данном файле будет произведено исследование по определению модели классификатора, который покажет лучший результат\n",
    "\n",
    "Результат будет оцениваться по метрике f1 weighted\n",
    "\n",
    "В рамках задачи нам важен по сути класс 1 по той причине, что страховой компании интересны только случаи, когда клиент будет брать страховку, поэтому нам важно максимизировать точность предсказаний именно по этому классу\n",
    "\n",
    "Для обучения и тестирования берём датасеты ```train_final.csv``` и ```test_final.csv```, которые были получены в ```EDA.ipynb```"
   ]
  },
  {
   "cell_type": "code",
   "execution_count": 1,
   "id": "cce1079a",
   "metadata": {},
   "outputs": [],
   "source": [
    "import pandas as pd\n",
    "from sklearn.metrics import f1_score, recall_score\n",
    "from sklearn.linear_model import LogisticRegression\n",
    "from sklearn.tree import DecisionTreeClassifier\n",
    "from sklearn.ensemble import RandomForestClassifier, GradientBoostingClassifier\n",
    "from sklearn.neighbors import KNeighborsClassifier\n",
    "from sklearn.svm import SVC\n",
    "from sklearn.naive_bayes import GaussianNB\n",
    "import pickle\n",
    "from sklearn.metrics import classification_report"
   ]
  },
  {
   "cell_type": "code",
   "execution_count": 2,
   "id": "ec7ae09f",
   "metadata": {},
   "outputs": [],
   "source": [
    "train = pd.read_csv(\"train_final.csv\")\n",
    "test = pd.read_csv(\"test_final.csv\")"
   ]
  },
  {
   "cell_type": "code",
   "execution_count": 3,
   "id": "d45049df",
   "metadata": {},
   "outputs": [],
   "source": [
    "x_train, y_train = train.drop(columns=[\"Response\"]), train[\"Response\"]\n",
    "x_test, y_test = test.drop(columns=[\"Response\"]), test[\"Response\"]"
   ]
  },
  {
   "cell_type": "markdown",
   "id": "87985f05",
   "metadata": {},
   "source": [
    "Возьмём ряд классификаторов из sklearn\n",
    "\n",
    "(изначально предполагалось использовать все классификаторы для проверки, но последние три из списка не остановили обучение за обозревамое время, а остальные, которые не имели возможности балансировки классов, не показали должного результата)"
   ]
  },
  {
   "cell_type": "code",
   "execution_count": 4,
   "id": "b81e29ea",
   "metadata": {},
   "outputs": [
    {
     "name": "stdout",
     "output_type": "stream",
     "text": [
      "Модель: Logistic_Regression\n"
     ]
    },
    {
     "name": "stderr",
     "output_type": "stream",
     "text": [
      "c:\\Users\\roman\\miniconda3\\Lib\\site-packages\\sklearn\\metrics\\_classification.py:1531: UndefinedMetricWarning: Precision is ill-defined and being set to 0.0 in labels with no predicted samples. Use `zero_division` parameter to control this behavior.\n",
      "  _warn_prf(average, modifier, f\"{metric.capitalize()} is\", len(result))\n",
      "c:\\Users\\roman\\miniconda3\\Lib\\site-packages\\sklearn\\metrics\\_classification.py:1531: UndefinedMetricWarning: Precision is ill-defined and being set to 0.0 in labels with no predicted samples. Use `zero_division` parameter to control this behavior.\n",
      "  _warn_prf(average, modifier, f\"{metric.capitalize()} is\", len(result))\n",
      "c:\\Users\\roman\\miniconda3\\Lib\\site-packages\\sklearn\\metrics\\_classification.py:1531: UndefinedMetricWarning: Precision is ill-defined and being set to 0.0 in labels with no predicted samples. Use `zero_division` parameter to control this behavior.\n",
      "  _warn_prf(average, modifier, f\"{metric.capitalize()} is\", len(result))\n"
     ]
    },
    {
     "name": "stdout",
     "output_type": "stream",
     "text": [
      "              precision    recall  f1-score   support\n",
      "\n",
      "           0       0.88      1.00      0.93   5705020\n",
      "           1       0.00      0.00      0.00    799778\n",
      "\n",
      "    accuracy                           0.88   6504798\n",
      "   macro avg       0.44      0.50      0.47   6504798\n",
      "weighted avg       0.77      0.88      0.82   6504798\n",
      "\n",
      "Модель: Decision_Tree\n"
     ]
    },
    {
     "name": "stderr",
     "output_type": "stream",
     "text": [
      "c:\\Users\\roman\\miniconda3\\Lib\\site-packages\\sklearn\\metrics\\_classification.py:1531: UndefinedMetricWarning: Precision is ill-defined and being set to 0.0 in labels with no predicted samples. Use `zero_division` parameter to control this behavior.\n",
      "  _warn_prf(average, modifier, f\"{metric.capitalize()} is\", len(result))\n",
      "c:\\Users\\roman\\miniconda3\\Lib\\site-packages\\sklearn\\metrics\\_classification.py:1531: UndefinedMetricWarning: Precision is ill-defined and being set to 0.0 in labels with no predicted samples. Use `zero_division` parameter to control this behavior.\n",
      "  _warn_prf(average, modifier, f\"{metric.capitalize()} is\", len(result))\n",
      "c:\\Users\\roman\\miniconda3\\Lib\\site-packages\\sklearn\\metrics\\_classification.py:1531: UndefinedMetricWarning: Precision is ill-defined and being set to 0.0 in labels with no predicted samples. Use `zero_division` parameter to control this behavior.\n",
      "  _warn_prf(average, modifier, f\"{metric.capitalize()} is\", len(result))\n"
     ]
    },
    {
     "name": "stdout",
     "output_type": "stream",
     "text": [
      "              precision    recall  f1-score   support\n",
      "\n",
      "           0       0.88      1.00      0.93   5705020\n",
      "           1       0.00      0.00      0.00    799778\n",
      "\n",
      "    accuracy                           0.88   6504798\n",
      "   macro avg       0.44      0.50      0.47   6504798\n",
      "weighted avg       0.77      0.88      0.82   6504798\n",
      "\n",
      "Модель: Random_Forest\n"
     ]
    },
    {
     "name": "stderr",
     "output_type": "stream",
     "text": [
      "c:\\Users\\roman\\miniconda3\\Lib\\site-packages\\sklearn\\metrics\\_classification.py:1531: UndefinedMetricWarning: Precision is ill-defined and being set to 0.0 in labels with no predicted samples. Use `zero_division` parameter to control this behavior.\n",
      "  _warn_prf(average, modifier, f\"{metric.capitalize()} is\", len(result))\n",
      "c:\\Users\\roman\\miniconda3\\Lib\\site-packages\\sklearn\\metrics\\_classification.py:1531: UndefinedMetricWarning: Precision is ill-defined and being set to 0.0 in labels with no predicted samples. Use `zero_division` parameter to control this behavior.\n",
      "  _warn_prf(average, modifier, f\"{metric.capitalize()} is\", len(result))\n",
      "c:\\Users\\roman\\miniconda3\\Lib\\site-packages\\sklearn\\metrics\\_classification.py:1531: UndefinedMetricWarning: Precision is ill-defined and being set to 0.0 in labels with no predicted samples. Use `zero_division` parameter to control this behavior.\n",
      "  _warn_prf(average, modifier, f\"{metric.capitalize()} is\", len(result))\n"
     ]
    },
    {
     "name": "stdout",
     "output_type": "stream",
     "text": [
      "              precision    recall  f1-score   support\n",
      "\n",
      "           0       0.88      1.00      0.93   5705020\n",
      "           1       0.00      0.00      0.00    799778\n",
      "\n",
      "    accuracy                           0.88   6504798\n",
      "   macro avg       0.44      0.50      0.47   6504798\n",
      "weighted avg       0.77      0.88      0.82   6504798\n",
      "\n",
      "Модель: Gradient_Boosting\n"
     ]
    },
    {
     "name": "stderr",
     "output_type": "stream",
     "text": [
      "c:\\Users\\roman\\miniconda3\\Lib\\site-packages\\sklearn\\metrics\\_classification.py:1531: UndefinedMetricWarning: Precision is ill-defined and being set to 0.0 in labels with no predicted samples. Use `zero_division` parameter to control this behavior.\n",
      "  _warn_prf(average, modifier, f\"{metric.capitalize()} is\", len(result))\n",
      "c:\\Users\\roman\\miniconda3\\Lib\\site-packages\\sklearn\\metrics\\_classification.py:1531: UndefinedMetricWarning: Precision is ill-defined and being set to 0.0 in labels with no predicted samples. Use `zero_division` parameter to control this behavior.\n",
      "  _warn_prf(average, modifier, f\"{metric.capitalize()} is\", len(result))\n"
     ]
    },
    {
     "name": "stdout",
     "output_type": "stream",
     "text": [
      "              precision    recall  f1-score   support\n",
      "\n",
      "           0       0.88      1.00      0.93   5705020\n",
      "           1       0.00      0.00      0.00    799778\n",
      "\n",
      "    accuracy                           0.88   6504798\n",
      "   macro avg       0.44      0.50      0.47   6504798\n",
      "weighted avg       0.77      0.88      0.82   6504798\n",
      "\n"
     ]
    },
    {
     "name": "stderr",
     "output_type": "stream",
     "text": [
      "c:\\Users\\roman\\miniconda3\\Lib\\site-packages\\sklearn\\metrics\\_classification.py:1531: UndefinedMetricWarning: Precision is ill-defined and being set to 0.0 in labels with no predicted samples. Use `zero_division` parameter to control this behavior.\n",
      "  _warn_prf(average, modifier, f\"{metric.capitalize()} is\", len(result))\n"
     ]
    }
   ],
   "source": [
    "# Объявление классификаторов\n",
    "lr = LogisticRegression(max_iter=1000)#, class_weight=\"balanced\")\n",
    "dt = DecisionTreeClassifier()\n",
    "rf = RandomForestClassifier()#class_weight=\"balanced\")\n",
    "gb = GradientBoostingClassifier()\n",
    "kn = KNeighborsClassifier(n_neighbors=5)\n",
    "svm = SVC()#class_weight=\"balanced\")\n",
    "nb = GaussianNB()\n",
    "\n",
    "classifiers = {\n",
    "    \"Logistic_Regression\": lr,\n",
    "    \"Decision_Tree\": dt,\n",
    "    \"Random_Forest\": rf,\n",
    "    \"Gradient_Boosting\": gb,\n",
    "    # \"K-Neighbors\": kn,\n",
    "    # \"SVM\": svm,\n",
    "    # \"Naive_Bayes\": gb\n",
    "}\n",
    "\n",
    "for name, clf in classifiers.items():\n",
    "    clf.fit(x_train, y_train)\n",
    "    y_pred = clf.predict(x_test)\n",
    "    \n",
    "    print(f\"Модель: {name}\")\n",
    "    print(classification_report(y_test, y_pred))"
   ]
  },
  {
   "cell_type": "markdown",
   "id": "9ad2a5b0",
   "metadata": {},
   "source": [
    "Получаются нулевые метрики у класса 1... Проблема может скрываться в том, что классы не сбалансированы"
   ]
  },
  {
   "cell_type": "code",
   "execution_count": 5,
   "id": "c69cd3ae",
   "metadata": {},
   "outputs": [],
   "source": [
    "import seaborn as sns\n",
    "import matplotlib.pyplot as plt"
   ]
  },
  {
   "cell_type": "code",
   "execution_count": 6,
   "id": "0aa7c4b4",
   "metadata": {},
   "outputs": [
    {
     "data": {
      "image/png": "[encoded data removed]",
      "text/plain": [
       "<Figure size 500x500 with 1 Axes>"
      ]
     },
     "metadata": {},
     "output_type": "display_data"
    }
   ],
   "source": [
    "sns.displot(train[\"Response\"])\n",
    "plt.title(f'Boxplot: {\"Response\"}')\n",
    "plt.show()"
   ]
  },
  {
   "cell_type": "markdown",
   "id": "dcd96ebd",
   "metadata": {},
   "source": [
    "Попробуем сбалансировать классы, для этого можно указать параметр в некоторых классификаторах. Возьмём только те, где этот параметр имеется\n",
    "\n",
    "SVM за адекватное время не посчитает, согласно документации sklearn время работы растёт квадратично от размера данных"
   ]
  },
  {
   "cell_type": "code",
   "execution_count": 17,
   "id": "b7ceba71",
   "metadata": {},
   "outputs": [
    {
     "name": "stdout",
     "output_type": "stream",
     "text": [
      "Модель: Logistic_Regression\n",
      "              precision    recall  f1-score   support\n",
      "\n",
      "           0       1.00      0.59      0.74   5705020\n",
      "           1       0.25      0.98      0.40    799778\n",
      "\n",
      "    accuracy                           0.64   6504798\n",
      "   macro avg       0.62      0.79      0.57   6504798\n",
      "weighted avg       0.90      0.64      0.70   6504798\n",
      "\n",
      "Модель: Random_Forest\n",
      "              precision    recall  f1-score   support\n",
      "\n",
      "           0       0.98      0.69      0.81   5705020\n",
      "           1       0.29      0.89      0.43    799778\n",
      "\n",
      "    accuracy                           0.72   6504798\n",
      "   macro avg       0.63      0.79      0.62   6504798\n",
      "weighted avg       0.89      0.72      0.76   6504798\n",
      "\n"
     ]
    }
   ],
   "source": [
    "lr = LogisticRegression(max_iter=1000, class_weight=\"balanced\")\n",
    "rf = RandomForestClassifier(class_weight=\"balanced\")\n",
    "svm = SVC(class_weight=\"balanced\")\n",
    "classifiers = {\n",
    "    \"Logistic_Regression\": lr,\n",
    "    \"Random_Forest\": rf,\n",
    "}\n",
    "\n",
    "for name, clf in classifiers.items():\n",
    "    clf.fit(x_train, y_train)\n",
    "    y_pred = clf.predict(x_test)\n",
    "    \n",
    "    f1 = f1_score(y_test, y_pred)\n",
    "    recall = recall_score(y_test, y_pred)\n",
    "    \n",
    "    print(f\"Модель: {name}\")\n",
    "    print(classification_report(y_test, y_pred))\n",
    "    with open(f\"{name}.pkl\", \"wb\") as file:\n",
    "        pickle.dump(clf, file)"
   ]
  },
  {
   "cell_type": "markdown",
   "id": "f65a5f31",
   "metadata": {},
   "source": [
    "Попробуем улучшить результат при помощи SMOTE, который создаст новые данные основе имеющихся, чтобы выравнять классы"
   ]
  },
  {
   "cell_type": "code",
   "execution_count": 4,
   "id": "8df2ecca",
   "metadata": {},
   "outputs": [],
   "source": [
    "from imblearn.over_sampling import SMOTE"
   ]
  },
  {
   "cell_type": "code",
   "execution_count": 5,
   "id": "b662a195",
   "metadata": {},
   "outputs": [],
   "source": [
    "smote = SMOTE(random_state=0)\n",
    "X_train_resampled, y_train_resampled = smote.fit_resample(x_train, y_train)"
   ]
  },
  {
   "cell_type": "code",
   "execution_count": 6,
   "id": "708fec7f",
   "metadata": {},
   "outputs": [
    {
     "name": "stdout",
     "output_type": "stream",
     "text": [
      "Модель: Logistic_Regression\n",
      "              precision    recall  f1-score   support\n",
      "\n",
      "           0       1.00      0.59      0.74   5705020\n",
      "           1       0.25      0.98      0.40    799778\n",
      "\n",
      "    accuracy                           0.64   6504798\n",
      "   macro avg       0.62      0.79      0.57   6504798\n",
      "weighted avg       0.90      0.64      0.70   6504798\n",
      "\n",
      "Модель: Random_Forest\n",
      "              precision    recall  f1-score   support\n",
      "\n",
      "           0       0.98      0.69      0.81   5705020\n",
      "           1       0.29      0.89      0.43    799778\n",
      "\n",
      "    accuracy                           0.72   6504798\n",
      "   macro avg       0.63      0.79      0.62   6504798\n",
      "weighted avg       0.89      0.72      0.76   6504798\n",
      "\n"
     ]
    }
   ],
   "source": [
    "lr = LogisticRegression(max_iter=1000, class_weight=\"balanced\")\n",
    "rf = RandomForestClassifier(class_weight=\"balanced\")\n",
    "classifiers = {\n",
    "    \"Logistic_Regression\": lr,\n",
    "    \"Random_Forest\": rf,\n",
    "}\n",
    "\n",
    "for name, clf in classifiers.items():\n",
    "    clf.fit(X_train_resampled, y_train_resampled)\n",
    "    y_pred = clf.predict(x_test)\n",
    "    \n",
    "    f1 = f1_score(y_test, y_pred)\n",
    "    recall = recall_score(y_test, y_pred)\n",
    "    \n",
    "    print(f\"Модель: {name}\")\n",
    "    print(classification_report(y_test, y_pred))\n",
    "    with open(f\"{name}_smote.pkl\", \"wb\") as file:\n",
    "        pickle.dump(clf, file)"
   ]
  },
  {
   "cell_type": "markdown",
   "id": "2569f546",
   "metadata": {},
   "source": [
    "На тех же моделях результат тот же, попробуем те, которые не умеют самостоятельно выравнивать дисбаланс"
   ]
  },
  {
   "cell_type": "code",
   "execution_count": null,
   "id": "56021679",
   "metadata": {},
   "outputs": [
    {
     "name": "stdout",
     "output_type": "stream",
     "text": [
      "Модель: Decision_Tree\n",
      "              precision    recall  f1-score   support\n",
      "\n",
      "           0       0.98      0.69      0.81   5705020\n",
      "           1       0.29      0.89      0.43    799778\n",
      "\n",
      "    accuracy                           0.72   6504798\n",
      "   macro avg       0.63      0.79      0.62   6504798\n",
      "weighted avg       0.89      0.72      0.76   6504798\n",
      "\n",
      "Модель: Gradient_Boosting\n",
      "              precision    recall  f1-score   support\n",
      "\n",
      "           0       0.98      0.69      0.81   5705020\n",
      "           1       0.29      0.89      0.43    799778\n",
      "\n",
      "    accuracy                           0.72   6504798\n",
      "   macro avg       0.63      0.79      0.62   6504798\n",
      "weighted avg       0.89      0.72      0.76   6504798\n",
      "\n"
     ]
    }
   ],
   "source": [
    "dt = DecisionTreeClassifier()\n",
    "gb = GradientBoostingClassifier()\n",
    "\n",
    "classifiers = {\n",
    "    \"Decision_Tree\": dt,\n",
    "    \"Gradient_Boosting\": gb,\n",
    "    \"Naive_Bayes\": gb\n",
    "}\n",
    "\n",
    "\n",
    "for name, clf in classifiers.items():\n",
    "    clf.fit(X_train_resampled, y_train_resampled)\n",
    "    y_pred = clf.predict(x_test)\n",
    "    \n",
    "    f1 = f1_score(y_test, y_pred)\n",
    "    recall = recall_score(y_test, y_pred)\n",
    "    \n",
    "    print(f\"Модель: {name}\")\n",
    "    print(classification_report(y_test, y_pred))\n",
    "    with open(f\"{name}_smote.pkl\", \"wb\") as file:\n",
    "        pickle.dump(clf, file)"
   ]
  },
  {
   "cell_type": "markdown",
   "id": "62b659f4",
   "metadata": {},
   "source": [
    "Лучше 0.76 выбить не удалось. Возьмём случайный лес как лучший вариант и попробуем его улучшить путём подбора лучших параметров через ```GridSearchCV```"
   ]
  },
  {
   "cell_type": "code",
   "execution_count": 20,
   "id": "e24f3b4a",
   "metadata": {},
   "outputs": [
    {
     "name": "stdout",
     "output_type": "stream",
     "text": [
      "{'bootstrap': True, 'ccp_alpha': 0.0, 'class_weight': 'balanced', 'criterion': 'gini', 'max_depth': None, 'max_features': 'sqrt', 'max_leaf_nodes': None, 'max_samples': None, 'min_impurity_decrease': 0.0, 'min_samples_leaf': 1, 'min_samples_split': 2, 'min_weight_fraction_leaf': 0.0, 'monotonic_cst': None, 'n_estimators': 100, 'n_jobs': None, 'oob_score': False, 'random_state': None, 'verbose': 0, 'warm_start': False}\n"
     ]
    }
   ],
   "source": [
    "with open(\"Random_Forest.pkl\", \"rb\") as f:\n",
    "    clf = pickle.load(f)\n",
    "print(clf.get_params())"
   ]
  },
  {
   "cell_type": "markdown",
   "id": "8ef63545",
   "metadata": {},
   "source": [
    "Зададим следующую сетку параметров:"
   ]
  },
  {
   "cell_type": "code",
   "execution_count": 4,
   "id": "bfc4092c",
   "metadata": {},
   "outputs": [],
   "source": [
    "from sklearn.model_selection import GridSearchCV"
   ]
  },
  {
   "cell_type": "code",
   "execution_count": 9,
   "id": "043f9fee",
   "metadata": {},
   "outputs": [
    {
     "name": "stdout",
     "output_type": "stream",
     "text": [
      "Fitting 5 folds for each of 8 candidates, totalling 40 fits\n",
      "[CV 1/5] END max_depth=3, max_features=10, min_samples_leaf=1, n_estimators=100;, score=0.700 total time= 1.7min\n",
      "[CV 2/5] END max_depth=3, max_features=10, min_samples_leaf=1, n_estimators=100;, score=0.701 total time= 1.7min\n",
      "[CV 3/5] END max_depth=3, max_features=10, min_samples_leaf=1, n_estimators=100;, score=0.701 total time= 1.7min\n",
      "[CV 4/5] END max_depth=3, max_features=10, min_samples_leaf=1, n_estimators=100;, score=0.700 total time= 1.7min\n",
      "[CV 5/5] END max_depth=3, max_features=10, min_samples_leaf=1, n_estimators=100;, score=0.700 total time= 1.7min\n",
      "[CV 1/5] END max_depth=3, max_features=10, min_samples_leaf=2, n_estimators=100;, score=0.700 total time= 1.7min\n",
      "[CV 2/5] END max_depth=3, max_features=10, min_samples_leaf=2, n_estimators=100;, score=0.701 total time= 1.7min\n",
      "[CV 3/5] END max_depth=3, max_features=10, min_samples_leaf=2, n_estimators=100;, score=0.701 total time= 1.7min\n",
      "[CV 4/5] END max_depth=3, max_features=10, min_samples_leaf=2, n_estimators=100;, score=0.700 total time= 1.7min\n",
      "[CV 5/5] END max_depth=3, max_features=10, min_samples_leaf=2, n_estimators=100;, score=0.700 total time= 1.7min\n",
      "[CV 1/5] END max_depth=3, max_features=20, min_samples_leaf=1, n_estimators=100;, score=0.700 total time= 1.7min\n",
      "[CV 2/5] END max_depth=3, max_features=20, min_samples_leaf=1, n_estimators=100;, score=0.701 total time= 1.7min\n",
      "[CV 3/5] END max_depth=3, max_features=20, min_samples_leaf=1, n_estimators=100;, score=0.701 total time= 1.7min\n",
      "[CV 4/5] END max_depth=3, max_features=20, min_samples_leaf=1, n_estimators=100;, score=0.700 total time= 1.7min\n",
      "[CV 5/5] END max_depth=3, max_features=20, min_samples_leaf=1, n_estimators=100;, score=0.700 total time= 1.7min\n",
      "[CV 1/5] END max_depth=3, max_features=20, min_samples_leaf=2, n_estimators=100;, score=0.700 total time= 1.7min\n",
      "[CV 2/5] END max_depth=3, max_features=20, min_samples_leaf=2, n_estimators=100;, score=0.701 total time= 1.7min\n",
      "[CV 3/5] END max_depth=3, max_features=20, min_samples_leaf=2, n_estimators=100;, score=0.701 total time= 1.7min\n",
      "[CV 4/5] END max_depth=3, max_features=20, min_samples_leaf=2, n_estimators=100;, score=0.700 total time= 1.7min\n",
      "[CV 5/5] END max_depth=3, max_features=20, min_samples_leaf=2, n_estimators=100;, score=0.700 total time= 1.7min\n",
      "[CV 1/5] END max_depth=5, max_features=10, min_samples_leaf=1, n_estimators=100;, score=0.763 total time= 2.1min\n",
      "[CV 2/5] END max_depth=5, max_features=10, min_samples_leaf=1, n_estimators=100;, score=0.763 total time= 2.0min\n",
      "[CV 3/5] END max_depth=5, max_features=10, min_samples_leaf=1, n_estimators=100;, score=0.764 total time= 2.0min\n",
      "[CV 4/5] END max_depth=5, max_features=10, min_samples_leaf=1, n_estimators=100;, score=0.763 total time= 2.0min\n",
      "[CV 5/5] END max_depth=5, max_features=10, min_samples_leaf=1, n_estimators=100;, score=0.763 total time= 2.0min\n",
      "[CV 1/5] END max_depth=5, max_features=10, min_samples_leaf=2, n_estimators=100;, score=0.763 total time= 2.0min\n",
      "[CV 2/5] END max_depth=5, max_features=10, min_samples_leaf=2, n_estimators=100;, score=0.763 total time= 2.0min\n",
      "[CV 3/5] END max_depth=5, max_features=10, min_samples_leaf=2, n_estimators=100;, score=0.764 total time= 2.1min\n",
      "[CV 4/5] END max_depth=5, max_features=10, min_samples_leaf=2, n_estimators=100;, score=0.763 total time= 2.0min\n",
      "[CV 5/5] END max_depth=5, max_features=10, min_samples_leaf=2, n_estimators=100;, score=0.763 total time= 2.0min\n",
      "[CV 1/5] END max_depth=5, max_features=20, min_samples_leaf=1, n_estimators=100;, score=0.763 total time= 2.0min\n",
      "[CV 2/5] END max_depth=5, max_features=20, min_samples_leaf=1, n_estimators=100;, score=0.763 total time= 2.0min\n",
      "[CV 3/5] END max_depth=5, max_features=20, min_samples_leaf=1, n_estimators=100;, score=0.764 total time= 2.0min\n",
      "[CV 4/5] END max_depth=5, max_features=20, min_samples_leaf=1, n_estimators=100;, score=0.763 total time= 2.0min\n",
      "[CV 5/5] END max_depth=5, max_features=20, min_samples_leaf=1, n_estimators=100;, score=0.763 total time= 2.0min\n",
      "[CV 1/5] END max_depth=5, max_features=20, min_samples_leaf=2, n_estimators=100;, score=0.763 total time= 2.0min\n",
      "[CV 2/5] END max_depth=5, max_features=20, min_samples_leaf=2, n_estimators=100;, score=0.763 total time= 2.0min\n",
      "[CV 3/5] END max_depth=5, max_features=20, min_samples_leaf=2, n_estimators=100;, score=0.764 total time= 2.1min\n",
      "[CV 4/5] END max_depth=5, max_features=20, min_samples_leaf=2, n_estimators=100;, score=0.763 total time= 2.1min\n",
      "[CV 5/5] END max_depth=5, max_features=20, min_samples_leaf=2, n_estimators=100;, score=0.763 total time= 2.0min\n",
      "Лучшие гиперпараметры {'max_depth': 5, 'max_features': 10, 'min_samples_leaf': 1, 'n_estimators': 100}\n",
      "Лучший показатель: 0.7633699581713322\n"
     ]
    }
   ],
   "source": [
    "#протестируем балансирующий классификатор\n",
    "clf = RandomForestClassifier(class_weight=\"balanced\")\n",
    "gr_space = {\n",
    "    'max_depth': [3,5],\n",
    "    'n_estimators': [100],\n",
    "    'max_features': [10, 20],\n",
    "    'min_samples_leaf': [1, 2]\n",
    "}\n",
    "grid = GridSearchCV(clf, gr_space, scoring=\"f1_weighted\", verbose=3, cv=5,)\n",
    "model_grid = grid.fit(x_train, y_train)\n",
    "\n",
    "print('Лучшие гиперпараметры '+str(model_grid.best_params_))\n",
    "print('Лучший показатель: ' + str(model_grid.best_score_))"
   ]
  },
  {
   "cell_type": "code",
   "execution_count": 11,
   "id": "7a5030e2",
   "metadata": {},
   "outputs": [
    {
     "name": "stdout",
     "output_type": "stream",
     "text": [
      "              precision    recall  f1-score   support\n",
      "\n",
      "           0       0.98      0.69      0.81   5705020\n",
      "           1       0.29      0.89      0.43    799778\n",
      "\n",
      "    accuracy                           0.72   6504798\n",
      "   macro avg       0.63      0.79      0.62   6504798\n",
      "weighted avg       0.89      0.72      0.76   6504798\n",
      "\n"
     ]
    }
   ],
   "source": [
    "best_forest_balanced = grid.best_estimator_\n",
    "y_pred = best_forest_balanced.predict(x_test)\n",
    "print(classification_report(y_test, y_pred))\n",
    "with open(\"Random_Forest_best_balanced.pkl\", \"wb\") as f:\n",
    "    pickle.dump(best_forest_balanced, f)"
   ]
  },
  {
   "cell_type": "markdown",
   "id": "75d0276e",
   "metadata": {},
   "source": [
    "Результат идентичен предыдущим вариантам, так что возьмём его за основу как финальную версию и переименуем в ```model.pkl```"
   ]
  }
 ],
 "metadata": {
  "kernelspec": {
   "display_name": "base",
   "language": "python",
   "name": "python3"
  },
  "language_info": {
   "codemirror_mode": {
    "name": "ipython",
    "version": 3
   },
   "file_extension": ".py",
   "mimetype": "text/x-python",
   "name": "python",
   "nbconvert_exporter": "python",
   "pygments_lexer": "ipython3",
   "version": "3.12.3"
  }
 },
 "nbformat": 4,
 "nbformat_minor": 5
}
